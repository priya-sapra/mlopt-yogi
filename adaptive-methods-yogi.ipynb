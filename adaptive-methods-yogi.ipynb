{
 "cells": [
  {
   "cell_type": "code",
   "execution_count": 2,
   "metadata": {},
   "outputs": [],
   "source": [
    "import numpy as np\n",
    "import matplotlib.pyplot as plt\n",
    "import matplotlib.lines as mline"
   ]
  },
  {
   "cell_type": "code",
   "execution_count": 17,
   "metadata": {},
   "outputs": [
    {
     "name": "stdout",
     "output_type": "stream",
     "text": [
      "prevgrad (2,) d (2,)\n",
      "prevgrad (2,) d (2,)\n",
      "prevgrad (2,) d (2,)\n",
      "prevgrad (2,) d (2,)\n",
      "prevgrad (2,) d (2,)\n",
      "prevgrad (2,) d (2,)\n",
      "prevgrad (2,) d (2,)\n",
      "prevgrad (2,) d (2,)\n",
      "prevgrad (2,) d (2,)\n",
      "prevgrad (2,) d (2,)\n"
     ]
    }
   ],
   "source": [
    "# Define the objective, its gradient, and the solvers\n",
    "\n",
    "D = np.diag([2,50])\n",
    "\n",
    "def f(x):\n",
    "    return 1/2*np.linalg.norm(D @ x)**2\n",
    "\n",
    "def df(x):\n",
    "    return D @ x\n",
    "\n",
    "def gd(df, x0, beta, T):\n",
    "    xhist=[x0]\n",
    "    for t in np.arange(1,T+1):\n",
    "        prevx = xhist[-1]\n",
    "        stepsize = 1/beta\n",
    "        xhist.append(prevx - stepsize * df(prevx))\n",
    "    return xhist\n",
    "\n",
    "def heavyball(df, x0, gamma, beta, T):\n",
    "    xhist=[x0]\n",
    "    mu = 0*x0\n",
    "    for t in np.arange(1, T+1):\n",
    "        stepsize = 1/beta\n",
    "        prevx = xhist[-1]\n",
    "        mu = gamma* mu + stepsize * df(prevx)\n",
    "        xhist.append(prevx - mu)\n",
    "    return xhist\n",
    "\n",
    "def nag(df, x0, gamma, beta, T):\n",
    "    xhist=[x0]\n",
    "    mu = 0*x0\n",
    "    for t in np.arange(1, T+1):\n",
    "        stepsize = 1/beta\n",
    "        prevx = xhist[-1]\n",
    "        mu = gamma* mu + stepsize * df(prevx - gamma*mu)\n",
    "        xhist.append(prevx - mu)\n",
    "    return xhist  \n",
    "\n",
    "def adagrad(df, x0, alpha, T, eps=10**(-8)):\n",
    "    xhist = [x0]\n",
    "    d = np.zeros(len(x0)) + eps\n",
    "    for t in np.arange(1, T+1):\n",
    "        prevx = xhist[-1]\n",
    "        prevgrad = df(prevx)\n",
    "        print(\"prevgrad\", prevgrad.shape, \"d\", d.shape)\n",
    "        d = d + prevgrad * prevgrad\n",
    "        xhist.append(prevx - alpha*prevgrad/np.sqrt(d))\n",
    "    return xhist\n",
    "\n",
    "def yogi(df, x0, b1, b2, a, T, eps=10**(-8)):\n",
    "    xhist = [x0]\n",
    "    m = 0\n",
    "    v = 0\n",
    "    eta = 2.0\n",
    "    for t in np.arange(1, T+1):\n",
    "        eta = 1.0/(1.0+a*t)\n",
    "        prevx = xhist[-1]\n",
    "        prevgrad = df(prevx)\n",
    "        m = b1*m + (1-b1)*prevgrad\n",
    "        v = v - (1-b2)*np.sign(v-prevgrad**2)*(prevgrad**2)\n",
    "        xhist.append(prevx - eta*m/(np.sqrt(v) + eps))\n",
    "    return xhist\n",
    "\n",
    "x0 = np.array([5,4])\n",
    "gdxhist = gd(df, x0, beta=250, T=10)\n",
    "gdxhist = np.array(gdxhist)\n",
    "\n",
    "gamma = 0.9\n",
    "hbxhist = heavyball(df, x0, gamma, beta=250, T=10)\n",
    "hbxhist = np.array(hbxhist)\n",
    "\n",
    "gamma = 0.9\n",
    "nagxhist = nag(df, x0, gamma, beta=250, T=10)\n",
    "nagxhist = np.array(nagxhist)\n",
    "\n",
    "alpha = 2\n",
    "agxhist = adagrad(df, x0, alpha, T=10)\n",
    "agxhist = np.array(agxhist)\n",
    "\n",
    "b1 = 0.9\n",
    "b2 = 0.999\n",
    "ygxhist = yogi(df, x0, b1, b2, alpha, T=10)\n",
    "ygxhist = np.array(ygxhist)"
   ]
  },
  {
   "cell_type": "code",
   "execution_count": 18,
   "metadata": {},
   "outputs": [
    {
     "data": {
      "image/png": "[encoded data removed]",
      "text/plain": [
       "<Figure size 432x288 with 1 Axes>"
      ]
     },
     "metadata": {
      "needs_background": "light"
     },
     "output_type": "display_data"
    }
   ],
   "source": [
    "# Plot the contours of f and the history of the point estimates\n",
    "\n",
    "xrange = np.linspace(-2,5)\n",
    "yrange = np.linspace(-25,25)\n",
    "X,Y = np.meshgrid(xrange, yrange)\n",
    "Z = np.array([z for z in map(f, zip(X.flatten(), Y.flatten()))])\n",
    "Z = Z.reshape(X.shape)\n",
    "gdlines = mline.Line2D(gdxhist[:,0], gdxhist[:,1], color='red', marker='+', markersize=10)\n",
    "hblines = mline.Line2D(hbxhist[:,0], hbxhist[:,1], color='green', marker='o', markersize=5)\n",
    "naglines = mline.Line2D(nagxhist[:,0], nagxhist[:,1], color='black', marker='^', markersize=5)\n",
    "aglines = mline.Line2D(agxhist[:,0], agxhist[:,1], color='blue', marker='^', markersize=5)\n",
    "yglines = mline.Line2D(ygxhist[:,0], ygxhist[:,1], color='orange', marker='o', markersize=5)\n",
    "\n",
    "fig, ax = plt.subplots()\n",
    "ax.contour(X,Y,Z)\n",
    "transform = ax.transAxes\n",
    "ax.add_line(gdlines)\n",
    "ax.add_line(hblines)\n",
    "ax.add_line(naglines)\n",
    "ax.add_line(aglines)\n",
    "ax.add_line(yglines)\n",
    "plt.show()"
   ]
  },
  {
   "cell_type": "code",
   "execution_count": 19,
   "metadata": {},
   "outputs": [
    {
     "data": {
      "text/plain": [
       "[<matplotlib.lines.Line2D at 0x7fcec8ffb320>]"
      ]
     },
     "execution_count": 19,
     "metadata": {},
     "output_type": "execute_result"
    },
    {
     "data": {
      "image/png": "[encoded data removed]",
      "text/plain": [
       "<Figure size 432x288 with 1 Axes>"
      ]
     },
     "metadata": {
      "needs_background": "light"
     },
     "output_type": "display_data"
    }
   ],
   "source": [
    "# Plot the size of the gradient vs iteration\n",
    "gradnorm = lambda x: np.linalg.norm(df(x))\n",
    "gdgradhist = np.apply_along_axis(gradnorm, 1, gdxhist)\n",
    "hbgradhist = np.apply_along_axis(gradnorm, 1, hbxhist)\n",
    "naggradhist = np.apply_along_axis(gradnorm, 1, nagxhist)\n",
    "aggradhist = np.apply_along_axis(gradnorm, 1, agxhist)\n",
    "yoggradhist = np.apply_along_axis(gradnorm, 1, ygxhist)\n",
    "\n",
    "plt.plot(gdgradhist, color = 'red')\n",
    "plt.plot(hbgradhist, color = 'green')\n",
    "plt.plot(naggradhist, color='black')\n",
    "plt.plot(aggradhist, color='blue')\n",
    "plt.plot(yoggradhist, color='orange')"
   ]
  },
  {
   "cell_type": "code",
   "execution_count": 145,
   "metadata": {},
   "outputs": [
    {
     "data": {
      "text/plain": [
       "array([200.24984395, 100.17983829,  55.41901829,  31.39273998,\n",
       "        17.91561246,  10.25413502,   5.87917536,   3.37647143,\n",
       "         1.94327962,   1.12169899,   0.65009018])"
      ]
     },
     "execution_count": 145,
     "metadata": {},
     "output_type": "execute_result"
    }
   ],
   "source": [
    "aggradhist"
   ]
  },
  {
   "cell_type": "code",
   "execution_count": 146,
   "metadata": {},
   "outputs": [
    {
     "data": {
      "text/plain": [
       "array([200.24984395, 160.30722504, 128.3777169 , 102.86425512,\n",
       "        82.49037981,  66.23631358,  53.28780729,  42.99514823,\n",
       "        34.84020617,  28.40976218,  23.373664  ])"
      ]
     },
     "execution_count": 146,
     "metadata": {},
     "output_type": "execute_result"
    }
   ],
   "source": [
    "gdgradhist"
   ]
  }
 ],
 "metadata": {
  "kernelspec": {
   "display_name": "Python 3",
   "language": "python",
   "name": "python3"
  },
  "language_info": {
   "codemirror_mode": {
    "name": "ipython",
    "version": 3
   },
   "file_extension": ".py",
   "mimetype": "text/x-python",
   "name": "python",
   "nbconvert_exporter": "python",
   "pygments_lexer": "ipython3",
   "version": "3.5.2"
  }
 },
 "nbformat": 4,
 "nbformat_minor": 4
}
