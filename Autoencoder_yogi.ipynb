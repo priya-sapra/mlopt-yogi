{
 "cells": [
  {
   "cell_type": "code",
   "execution_count": 1,
   "metadata": {
    "id": "DNV5ddUqX9Ko"
   },
   "outputs": [],
   "source": [
    "import numpy as np\n",
    "import matplotlib.pyplot as plt\n",
    "import tensorflow as tf\n",
    "import sklearn.preprocessing as skl_pre\n",
    "from matplotlib import gridspec\n",
    "from utils import mnist_reader\n",
    "from utils import helper\n",
    "\n",
    "## This is an autoencoder implementation of the Fashion MNIST dataset with 1 hidden layer\n",
    "## with ReLU activation, and binary cross entropy with sigmoid activation on the output layer.\n",
    "## We evaluate the performance of 4 first order optimizers: SGD, ADAGrad, ADAM, YOGI\n",
    "\n",
    "## Load In Data ##\n",
    "Xtrain_original, Ytrain = mnist_reader.load_mnist('data/fashion', kind='train')\n",
    "Xtest_original, Ytest = mnist_reader.load_mnist('data/fashion', kind='t10k')\n",
    "\n",
    "## This downloads the dataset if not in your directory already ##\n",
    "#fashion_mnist = tf.keras.datasets.fashion_mnist\n",
    "#(train_images, train_labels), (test_images, test_labels) = fashion_mnist.load_data()\n",
    "\n",
    "## Make sure we are in the fashion mnist directory.\n",
    "\n",
    "Xtrain = np.zeros([60000,784])\n",
    "Xtest = np.zeros([10000, 784])\n",
    "\n",
    "## Standardize Features to [0,1]##\n",
    "scaler = skl_pre.MinMaxScaler()\n",
    "Xtrain_original = scaler.fit_transform(Xtrain_original)\n",
    "\n",
    "Xtest_original = scaler.transform(Xtest_original)\n",
    "Xtrain = Xtrain_original.T\n",
    "Xtest = Xtest_original.T"
   ]
  },
  {
   "cell_type": "code",
   "execution_count": 2,
   "metadata": {
    "id": "f6Ucxws-ZfMJ"
   },
   "outputs": [],
   "source": [
    "\n",
    "## Given dimensions of input neuron \"d\", number of neurons in hidden layer \"n1\", creates an\n",
    "## autoencoder class with ndarray weights W1, b1, W2, b2 (all dimensions are listed in __init__ portion)\n",
    "## along with parameters that will be used in the gradient step. (i.e. nuP_W1, nuP_W2) More on this in the optimizer function.\n",
    "## Uses Binary CrossEntropy Loss.\n",
    "class autoencoder:\n",
    "    def __init__(self, d, n1):\n",
    "        self.d = d\n",
    "        self.n1 = n1\n",
    "        self.b1 = np.zeros(n1)\n",
    "        self.b2 = np.zeros(d)\n",
    "        dom = np.sqrt(6/(d + n1))\n",
    "        self.W1 = np.random.uniform(-dom, dom,[d, n1])\n",
    "        self.W2 = np.random.uniform(-dom, dom,[n1, d])\n",
    "        self.t = 0 # timestep\n",
    "        self.nuP_W1 = np.zeros([d, n1])\n",
    "        self.nuP_W2 = np.zeros([n1,d])\n",
    "        self.hP_W1 = np.zeros([d, n1])\n",
    "        self.hP_W2 = np.zeros([n1, d])\n",
    "        self.nuP_b1 = np.zeros(n1)\n",
    "        self.nuP_b2 = np.zeros(d)\n",
    "        self.hP_b1 = np.zeros(n1)\n",
    "        self.hP_b2 = np.zeros(d)\n",
    "        \n",
    "## ReLU Activation, for hidden layer 1\n",
    "    def h1(self, a):\n",
    "        return np.maximum(0,a)\n",
    "## Sigmoid activation, for output layer\n",
    "    def h2(self, a):\n",
    "        return 1/(1+np.exp(-a))\n",
    "## Derivative of Sigmoid\n",
    "    def dh2(self, a):\n",
    "        return np.multiply( self.h1(a),1-self.h1(a))\n",
    "## Derivative of ReLU\n",
    "    def dh1(self, a):\n",
    "    ## for simplicity, 0 values are given the subderivative of 1\n",
    "        return np.where( a >= 0, 1, 0)\n",
    "\n",
    "## given an ndarray Xbatch, a minibatch of X, returns the Binary Cross Entropy Loss of our current Neural Net.\n",
    "    def loss(self, Xbatch): \n",
    "        int_m = Xbatch.shape[1]\n",
    "        ones_m = np.zeros(int_m)\n",
    "        O1 = self.h1((self.W1).T@Xbatch + np.outer(self.b1,ones_m))\n",
    "        Y = self.h2((self.W2).T@O1 + np.outer(self.b2, ones_m))\n",
    "        lnY = np.log(Y)\n",
    "        oneminuslnY = np.log(1-Y)\n",
    "        return -(np.sum(np.multiply(Xbatch, lnY) \\\n",
    "                        + np.multiply( (1-Xbatch), oneminuslnY)))/(self.d*int_m)\n",
    "## Given Ybatch, the batch labels of Xbatch, returns the gradient of the Binary Cross Entropy Loss.\n",
    "    def dloss(self, Ybatch):\n",
    "        return np.divide((Ybatch - self.Xbatch), (np.multiply(Ybatch, (1-Ybatch))))\n",
    "## Forward step of Neural Network.\n",
    "    def forward(self, Xbatch):\n",
    "        self.Xbatch = Xbatch\n",
    "        int_m = Xbatch.shape[1]\n",
    "        ones_m = np.ones(int_m)\n",
    "        self.a1 = (self.W1).T@Xbatch + np.outer(self.b1, ones_m.T)\n",
    "        self.o1 = self.h1(self.a1)\n",
    "        self.a2 = (self.W2).T@self.o1 + np.outer(self.b2, ones_m.T)\n",
    "        self.o2 = self.h2(self.a2)\n",
    "## Backpropagation step of Neural Network.\n",
    "    def backward(self):\n",
    "        delta_o = np.multiply(self.dloss(self.o2), self.dh2(self.o2)) \n",
    "        int_m = delta_o.shape[1]\n",
    "        ones_m = np.ones(int_m)\n",
    "        self.dW2 = (self.o1@delta_o.T)/int_m ## n1 x d\n",
    "        self.db2 = (delta_o @ ones_m)/int_m\n",
    "        delta_h = np.multiply((self.W2@delta_o),self.dh1(self.o1))\n",
    "        self.dW1 = (self.Xbatch@delta_h.T)/int_m\n",
    "        self.db1 = (delta_h @ ones_m)/int_m\n",
    "\n",
    "## Given parameters alpha (stepsize), rho1 = 0.9 (momentum term), rho2 = 0.999 (EMA term), delta = 10^{-8} (adaptivity parameter)\n",
    "## performs a gradient step using ADAM. \n",
    "## nuP term can be considered the m_t term according to the paper, which is updated with rho1\n",
    "## hP term can be considered the v_t term according to the paper, which is updated with rho2.\n",
    "\n",
    "    def adam_step(self, alpha=0.001, rho1=0.9, rho2=0.999, delta=1e-8):\n",
    "        self.t += 1\n",
    "        ## \"momentum term\"\n",
    "        self.nuP_W2 = rho1*self.nuP_W2 + (1-rho1)*self.dW2\n",
    "        self.nuP_W1 = rho1*self.nuP_W1 + (1-rho1)*self.dW1\n",
    "        self.nuP_b2 = rho1*self.nuP_b2 + (1-rho1)*self.db2\n",
    "        self.nuP_b1 = rho1*self.nuP_b1 + (1-rho1)*self.db1\n",
    "        ## \"curvature/ Exponential Moving Average update\"\n",
    "        self.hP_W2 = rho2*self.hP_W2 + (1-rho2)*(self.dW2**2)\n",
    "        self.hP_W1 = rho2*self.hP_W1 + (1-rho2)*(self.dW1**2)\n",
    "        self.hP_b2 = rho2*self.hP_b2 + (1-rho2)*(self.db2**2)\n",
    "        self.hP_b1 = rho2*self.hP_b1 + (1-rho2)*(self.db1**2)\n",
    "        ## debias first term\n",
    "        nuP_W2_hat = self.nuP_W2/(1 - (rho1**self.t))\n",
    "        nuP_W1_hat = self.nuP_W1/(1 - (rho1**self.t))\n",
    "        nuP_b2_hat = self.nuP_b2/(1 - (rho1**self.t))\n",
    "        nuP_b1_hat = self.nuP_b1/(1 - (rho1**self.t))\n",
    "        ## debias second term\n",
    "        hP_W2_hat = self.hP_W2/(1 - (rho2**self.t))\n",
    "        hP_W1_hat = self.hP_W1/(1 - (rho2**self.t))\n",
    "        hP_b2_hat = self.hP_b2/(1 - (rho2**self.t))\n",
    "        hP_b1_hat = self.hP_b1/(1 - (rho2**self.t))\n",
    "        ## gradient step\n",
    "        self.W2 -= alpha*np.divide(nuP_W2_hat, (np.sqrt(hP_W2_hat) + delta))\n",
    "        self.b2 -= alpha*np.divide(nuP_b2_hat, (np.sqrt(hP_b2_hat) + delta))\n",
    "        self.W1 -= alpha*np.divide(nuP_W1_hat, (np.sqrt(hP_W1_hat) + delta))\n",
    "        self.b1 -= alpha*np.divide(nuP_b1_hat, (np.sqrt(hP_b1_hat) + delta))\n",
    "        \n",
    "## Given parameters alpha (initial stepsize), \"a\" decrement parameter for our stepsize ==> eta = alpha/(1 + a*t)\n",
    "## performs a gradient step using SGD.\n",
    "    def SGD_step(self, alpha=0.0001, a = 0.001):\n",
    "        self.t += 1\n",
    "        ## gradient step\n",
    "        eta = alpha/(1 + a*self.t)\n",
    "        self.W2 -= eta*self.dW2\n",
    "        self.b2 -= eta*self.db2\n",
    "        self.W1 -= eta*self.dW1\n",
    "        self.b1 -= eta*self.db1\n",
    "        \n",
    "        \n",
    "## Given parameters alpha (stepsize), rho1 = 0.9 (momentum term), rho2 = 0.999 (EMA term), delta = 10^{-8} (adaptivity parameter)\n",
    "## performs a gradient step using YOGI.\n",
    "    def yogi_step(self, alpha=0.001, rho1=0.9, rho2=0.999, delta=1e-3):\n",
    "        self.t += 1\n",
    "        ## \"momentum term\"\n",
    "        self.nuP_W2 = rho1*self.nuP_W2 + (1-rho1)*self.dW2\n",
    "        self.nuP_W1 = rho1*self.nuP_W1 + (1-rho1)*self.dW1\n",
    "        self.nuP_b2 = rho1*self.nuP_b2 + (1-rho1)*self.db2\n",
    "        self.nuP_b1 = rho1*self.nuP_b1 + (1-rho1)*self.db1\n",
    "        ## \"curvature\"\n",
    "        self.hP_W2 = self.hP_W2 - (1-rho2)*np.sign(self.hP_W2 - self.dW2**2)*(self.dW2**2)\n",
    "        self.hP_b2 = self.hP_b2 - (1-rho2)*np.sign(self.hP_b2 - self.db2**2)*(self.db2**2)\n",
    "        self.hP_W1 = self.hP_W1 - (1-rho2)*np.sign(self.hP_W1 - self.dW1**2)*(self.dW1**2)\n",
    "        self.hP_b1 = self.hP_b1 - (1-rho2)*np.sign(self.hP_b1 - self.db1**2)*(self.db1**2)\n",
    "        ## debias first term\n",
    "        nuP_W2_hat = self.nuP_W2/(1 - (rho1**self.t))\n",
    "        nuP_W1_hat = self.nuP_W1/(1 - (rho1**self.t))\n",
    "        nuP_b2_hat = self.nuP_b2/(1 - (rho1**self.t))\n",
    "        nuP_b1_hat = self.nuP_b1/(1 - (rho1**self.t))\n",
    "        ## debias second term\n",
    "        hP_W2_hat = self.hP_W2/(1 - (rho2**self.t))\n",
    "        hP_W1_hat = self.hP_W1/(1 - (rho2**self.t))\n",
    "        hP_b2_hat = self.hP_b2/(1 - (rho2**self.t))\n",
    "        hP_b1_hat = self.hP_b1/(1 - (rho2**self.t))\n",
    "        ## gradient step\n",
    "        self.W2 -= alpha*np.divide(nuP_W2_hat, (np.sqrt(hP_W2_hat) + delta))\n",
    "        self.b2 -= alpha*np.divide(nuP_b2_hat, (np.sqrt(hP_b2_hat) + delta))\n",
    "        self.W1 -= alpha*np.divide(nuP_W1_hat, (np.sqrt(hP_W1_hat) + delta))\n",
    "        self.b1 -= alpha*np.divide(nuP_b1_hat, (np.sqrt(hP_b1_hat) + delta))\n",
    "        "
   ]
  },
  {
   "cell_type": "code",
   "execution_count": 3,
   "metadata": {
    "colab": {
     "base_uri": "https://localhost:8080/"
    },
    "id": "fSereFQaiSRZ",
    "outputId": "4aafbc12-c57a-434d-9323-a89cd835154a",
    "scrolled": true
   },
   "outputs": [
    {
     "name": "stdout",
     "output_type": "stream",
     "text": [
      " Training loss [1/20]: 0.69750\n",
      " Training loss [2/20]: 0.47395\n",
      " Training loss [3/20]: 0.40910\n",
      " Training loss [4/20]: 0.38925\n",
      " Training loss [5/20]: 0.37750\n",
      " Training loss [6/20]: 0.36561\n",
      " Training loss [7/20]: 0.36597\n",
      " Training loss [8/20]: 0.36186\n",
      " Training loss [9/20]: 0.35088\n",
      " Training loss [10/20]: 0.35180\n",
      " Training loss [11/20]: 0.34919\n",
      " Training loss [12/20]: 0.35009\n",
      " Training loss [13/20]: 0.34595\n",
      " Training loss [14/20]: 0.34903\n",
      " Training loss [15/20]: 0.34859\n",
      " Training loss [16/20]: 0.34614\n",
      " Training loss [17/20]: 0.34458\n",
      " Training loss [18/20]: 0.34264\n",
      " Training loss [19/20]: 0.34459\n",
      " Training loss [20/20]: 0.34856\n"
     ]
    }
   ],
   "source": [
    "yogi_trainloss = []\n",
    "yogi_testloss = []\n",
    "adam_trainloss = []\n",
    "adam_testloss = []\n",
    "d = 784\n",
    "n1 = 100\n",
    "###################\n",
    "## YOGI TRAINING ##\n",
    "###################\n",
    "ntrain = Xtrain.shape[0]\n",
    "numepochs = 20\n",
    "batchsize = 25\n",
    "numsplits = int(np.ceil(ntrain/batchsize))\n",
    "np.random.seed(20)\n",
    "ae = autoencoder(d, n1)\n",
    "for e in range(numepochs):\n",
    "    print(\" Training loss [%d/%d]: %.5f\" % (e+1, numepochs, ae.loss(Xtrain)))\n",
    "    yogi_trainloss.append(ae.loss(Xtrain))\n",
    "    yogi_testloss.append(ae.loss(Xtest))\n",
    "    minibatches = np.array_split(np.random.permutation(ntrain), numsplits)\n",
    "    for indices in minibatches:\n",
    "        Xbatch = Xtrain[:, indices]\n",
    "        ae.forward(Xbatch)\n",
    "        ae.backward()\n",
    "        ae.yogi_step()"
   ]
  },
  {
   "cell_type": "code",
   "execution_count": 4,
   "metadata": {},
   "outputs": [
    {
     "name": "stdout",
     "output_type": "stream",
     "text": [
      " Training loss [1/20]: 0.69750\n",
      " Training loss [2/20]: 0.47263\n",
      " Training loss [3/20]: 0.40766\n",
      " Training loss [4/20]: 0.38823\n",
      " Training loss [5/20]: 0.37660\n",
      " Training loss [6/20]: 0.36461\n",
      " Training loss [7/20]: 0.36552\n",
      " Training loss [8/20]: 0.36140\n",
      " Training loss [9/20]: 0.35000\n",
      " Training loss [10/20]: 0.35112\n",
      " Training loss [11/20]: 0.34924\n",
      " Training loss [12/20]: 0.34983\n",
      " Training loss [13/20]: 0.34603\n",
      " Training loss [14/20]: 0.34928\n",
      " Training loss [15/20]: 0.34962\n",
      " Training loss [16/20]: 0.34676\n",
      " Training loss [17/20]: 0.34490\n",
      " Training loss [18/20]: 0.34353\n",
      " Training loss [19/20]: 0.34444\n",
      " Training loss [20/20]: 0.34831\n"
     ]
    }
   ],
   "source": [
    "d = 784\n",
    "n1 = 100\n",
    "ntrain = Xtrain.shape[0]\n",
    "numepochs = 20\n",
    "batchsize = 25\n",
    "numsplits = int(np.ceil(ntrain/batchsize))\n",
    "np.random.seed(20)\n",
    "###################\n",
    "## ADAM TRAINING ##\n",
    "###################\n",
    "ae = autoencoder(d, n1)\n",
    "for e in range(numepochs):\n",
    "    print(\" Training loss [%d/%d]: %.5f\" % (e+1, numepochs, ae.loss(Xtrain)))\n",
    "    adam_trainloss.append(ae.loss(Xtrain))\n",
    "    adam_testloss.append(ae.loss(Xtest))\n",
    "    minibatches = np.array_split(np.random.permutation(ntrain), numsplits)\n",
    "    for indices in minibatches:\n",
    "        Xbatch = Xtrain[:, indices]\n",
    "        ae.forward(Xbatch)\n",
    "        ae.backward()\n",
    "        ae.adam_step()"
   ]
  },
  {
   "cell_type": "code",
   "execution_count": 5,
   "metadata": {},
   "outputs": [
    {
     "name": "stdout",
     "output_type": "stream",
     "text": [
      " Training loss [1/20]: 0.69750\n",
      " Training loss [2/20]: 0.69120\n",
      " Training loss [3/20]: 0.68614\n",
      " Training loss [4/20]: 0.68116\n",
      " Training loss [5/20]: 0.67565\n",
      " Training loss [6/20]: 0.66927\n",
      " Training loss [7/20]: 0.66187\n",
      " Training loss [8/20]: 0.65341\n",
      " Training loss [9/20]: 0.64395\n",
      " Training loss [10/20]: 0.63369\n",
      " Training loss [11/20]: 0.62290\n",
      " Training loss [12/20]: 0.61194\n",
      " Training loss [13/20]: 0.60116\n",
      " Training loss [14/20]: 0.59088\n",
      " Training loss [15/20]: 0.58134\n",
      " Training loss [16/20]: 0.57268\n",
      " Training loss [17/20]: 0.56496\n",
      " Training loss [18/20]: 0.55821\n",
      " Training loss [19/20]: 0.55235\n",
      " Training loss [20/20]: 0.54730\n"
     ]
    }
   ],
   "source": [
    "sgd_trainloss = []\n",
    "sgd_testloss = []\n",
    "d = 784\n",
    "n1 = 100\n",
    "ntrain = Xtrain.shape[0]\n",
    "numepochs = 20\n",
    "batchsize = 25\n",
    "numsplits = int(np.ceil(ntrain/batchsize))\n",
    "np.random.seed(20)\n",
    "##################\n",
    "## SGD TRAINING ##\n",
    "##################\n",
    "ae = autoencoder(d, n1)\n",
    "for e in range(numepochs):\n",
    "    print(\" Training loss [%d/%d]: %.5f\" % (e+1, numepochs, ae.loss(Xtrain)))\n",
    "    sgd_trainloss.append(ae.loss(Xtrain))\n",
    "    sgd_testloss.append(ae.loss(Xtest))\n",
    "    minibatches = np.array_split(np.random.permutation(ntrain), numsplits)\n",
    "    for indices in minibatches:\n",
    "        Xbatch = Xtrain[:, indices]\n",
    "        ae.forward(Xbatch)\n",
    "        ae.backward()\n",
    "        ae.SGD_step()"
   ]
  },
  {
   "cell_type": "code",
   "execution_count": 12,
   "metadata": {
    "colab": {
     "base_uri": "https://localhost:8080/"
    },
    "id": "x9PJsiYl-wrp",
    "outputId": "e24a85be-4316-4d6e-c456-eb40b3180c3d",
    "scrolled": true
   },
   "outputs": [
    {
     "data": {
      "image/png": "[encoded data removed]",
      "text/plain": [
       "<Figure size 432x288 with 1 Axes>"
      ]
     },
     "metadata": {
      "needs_background": "light"
     },
     "output_type": "display_data"
    }
   ],
   "source": [
    "## Plot Loss Across All Models ##\n",
    "\n",
    "plt.title(\"Loss Comparison\")\n",
    "plt.plot(adam_trainloss[0:20], label = \"ADAM Train\")\n",
    "plt.plot(adam_testloss[0:20], label = \"ADAM Test\")\n",
    "plt.plot(yogi_trainloss[0:20], label = \"YOGI Train\")\n",
    "plt.plot(yogi_testloss[0:20], label = \"YOGI Test\")\n",
    "plt.plot(sgd_trainloss[0:20], label = \"Tuned SGD Train\")\n",
    "plt.plot(sgd_testloss[0:20], label = \"Tuned SGD Test\")\n",
    "plt.xticks(np.arange(0,20,2))\n",
    "plt.legend(loc = 'upper left')\n",
    "plt.show()"
   ]
  },
  {
   "cell_type": "code",
   "execution_count": 7,
   "metadata": {},
   "outputs": [
    {
     "data": {
      "image/png": "[encoded data removed]",
      "text/plain": [
       "<Figure size 432x288 with 1 Axes>"
      ]
     },
     "metadata": {
      "needs_background": "light"
     },
     "output_type": "display_data"
    },
    {
     "data": {
      "image/png": "[encoded data removed]",
      "text/plain": [
       "<Figure size 432x288 with 1 Axes>"
      ]
     },
     "metadata": {
      "needs_background": "light"
     },
     "output_type": "display_data"
    }
   ],
   "source": [
    "## Plot Train Loss Only ##\n",
    "plt.title(\"Train Loss\")\n",
    "plt.plot(np.arange(10,20),adam_trainloss[9:19], label = \"ADAM\")\n",
    "plt.plot(np.arange(10,20),yogi_trainloss[9:19], label = \"YOGI\")\n",
    "plt.plot(np.arange(10,20),sgd_trainloss[9:19], label = \"Tuned SGD\")\n",
    "plt.legend()\n",
    "plt.show()\n",
    "\n",
    "## Plot Test Loss Only ##\n",
    "plt.title(\"Test Loss\")\n",
    "plt.plot(np.arange(10,20),adam_testloss[9:19], label = \"ADAM\")\n",
    "plt.plot(np.arange(10,20),yogi_testloss[9:19], label = \"YOGI\")\n",
    "plt.plot(np.arange(10,20),sgd_testloss[9:19], label = \"Tuned SGD\")\n",
    "plt.legend()\n",
    "plt.show()"
   ]
  },
  {
   "cell_type": "code",
   "execution_count": 8,
   "metadata": {},
   "outputs": [
    {
     "name": "stdout",
     "output_type": "stream",
     "text": [
      "SGD TEST LOSS: 0.5475352700800752\n",
      "ADAM TEST LOSS: 0.35021100870752436\n",
      "YOGI TEST LOSS: 0.350475262313481\n"
     ]
    }
   ],
   "source": [
    "## Directly Print Accuracies ##\n",
    "print(\"SGD TEST LOSS:\", sgd_testloss[19])\n",
    "print(\"ADAM TEST LOSS:\", adam_testloss[19])\n",
    "print(\"YOGI TEST LOSS:\", yogi_testloss[19])\n"
   ]
  }
 ],
 "metadata": {
  "colab": {
   "collapsed_sections": [],
   "name": "hw6colab.ipynb",
   "provenance": []
  },
  "kernelspec": {
   "display_name": "Python 3",
   "language": "python",
   "name": "python3"
  },
  "language_info": {
   "codemirror_mode": {
    "name": "ipython",
    "version": 3
   },
   "file_extension": ".py",
   "mimetype": "text/x-python",
   "name": "python",
   "nbconvert_exporter": "python",
   "pygments_lexer": "ipython3",
   "version": "3.7.7"
  }
 },
 "nbformat": 4,
 "nbformat_minor": 1
}
