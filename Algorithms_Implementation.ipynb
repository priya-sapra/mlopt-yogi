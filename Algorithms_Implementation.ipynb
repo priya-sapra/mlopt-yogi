{
 "cells": [
  {
   "cell_type": "code",
   "execution_count": 1,
   "metadata": {},
   "outputs": [],
   "source": [
    "import numpy as np\n",
    "import matplotlib.pyplot as plt\n",
    "from utils import mnist_reader, helper\n",
    "from sklearn import preprocessing\n",
    "from sklearn.metrics import accuracy_score\n",
    "from scipy.sparse.linalg import eigsh\n",
    "from numpy.linalg import norm\n",
    "from sklearn.preprocessing import StandardScaler\n",
    "from sklearn.metrics import accuracy_score\n",
    "\n",
    "\n",
    "# for reproducibility, use rs to generate all random quantities\n",
    "rs = np.random.RandomState(10012020)\n",
    "\n",
    "\n",
    "X_train, y_train = mnist_reader.load_mnist('data/fashion', kind='train')\n",
    "X_test, y_test = mnist_reader.load_mnist('data/fashion', kind='t10k')\n",
    "\n",
    "#preprocessing\n",
    "scaler = StandardScaler().fit(X_train)\n",
    "X_train = scaler.transform(X_train)\n",
    "X_test = scaler.transform(X_test)\n",
    "\n",
    "#Some code from an in class example\n",
    "templatedims = 4\n",
    "templates = rs.randn(10, templatedims)\n",
    "templates = templates / np.linalg.norm(templates, axis=1, ord=2).reshape(10,1)\n",
    "\n",
    "def encode_target(y):\n",
    "    return templates[y]\n",
    "\n",
    "def recover_target(y):\n",
    "    diffs = templates - np.repeat(y.reshape(1,templatedims), 10, axis=0)\n",
    "    dists = np.sum(diffs * diffs, axis=1)\n",
    "    return np.argmin(dists)\n",
    "\n",
    "Y_train = np.array([encode_target(y) for y in y_train], dtype=float)\n",
    "Y_test =  np.array([encode_target(y) for y in y_test], dtype=float)\n",
    "\n",
    "n_train, d = X_train.shape"
   ]
  },
  {
   "cell_type": "code",
   "execution_count": 3,
   "metadata": {},
   "outputs": [],
   "source": [
    "def f(X, Y, W):\n",
    "    return 1/2*np.linalg.norm(Y - X @ W)**2\n",
    "\n",
    "def grad(X, Y, W):\n",
    "    Hess = X.T @ X\n",
    "    projY = X.T @ Y\n",
    "    return Hess @ W - projY\n",
    "\n",
    "\n",
    "def ADAM(X, Y, W, T, a, beta1, beta2, eps):\n",
    "    Wcurr = W\n",
    "    eta = 1.0\n",
    "    m = np.zeros((784, 4))\n",
    "    v = np.zeros((784, 4))\n",
    "    weights = []\n",
    "    for i in range(T):\n",
    "        eta = 1.0/(1.0+a*i)\n",
    "        index = np.random.choice(X.shape[0], 1, replace=False) \n",
    "        gt = grad(X[index], Y[index], Wcurr)\n",
    "        \n",
    "        #m and v terms match with algorithm definitions in paper for ADAM\n",
    "        m = beta1*m+(1-beta1)*gt\n",
    "        v = v-(1-beta2)*(v-gt**2)\n",
    "        Wcurr = Wcurr-(eta*m)/(v**0.5+eps)\n",
    "        weights.append(Wcurr)\n",
    "    return weights\n",
    "\n",
    "\n",
    "def YOGI(X, Y, W, T, a, beta1, beta2, eps):\n",
    "    Wcurr = W\n",
    "    eta = 1.0\n",
    "    m = np.zeros((784, 4))\n",
    "    v = np.zeros((784, 4))\n",
    "    weights = []\n",
    "    for i in range(T):\n",
    "        eta = 1.0/(1.0+a*i)\n",
    "        index = np.random.choice(X.shape[0], 1, replace=False) \n",
    "        gt = grad(X[index], Y[index], Wcurr)\n",
    "        \n",
    "        #m and v terms match with algorithm definitions in paper for YOGI\n",
    "        m = beta1*m+(1-beta1)*gt\n",
    "        v = v-(1-beta2)*np.sign(v-gt**2)*gt**2\n",
    "        Wcurr = Wcurr-(eta*m)/(v**0.5+eps)\n",
    "        weights.append(Wcurr)\n",
    "    return weights\n",
    "\n",
    "def AdaGrad(X, Y, W, T, eta, eps):\n",
    "    Wcurr = W\n",
    "    weights = []\n",
    "    v = 0.0\n",
    "    for i in range(T):\n",
    "        index = np.random.choice(X.shape[0], 1, replace=False) \n",
    "        gt = grad(X[index], Y[index], Wcurr)\n",
    "        v = v+gt**2\n",
    "        Wcurr = Wcurr - eta/(v + eps)**0.5 * gt\n",
    "        weights.append(Wcurr)\n",
    "    return weights\n",
    "        \n",
    "\n"
   ]
  },
  {
   "cell_type": "code",
   "execution_count": null,
   "metadata": {},
   "outputs": [
    {
     "name": "stdout",
     "output_type": "stream",
     "text": [
      "Ran ADAM and YOGI And AdaGrad\n"
     ]
    }
   ],
   "source": [
    "W = np.ones((d, templatedims)) #initial weights \n",
    "\n",
    "beta1 = 0.9 #set parameters as specified in paper\n",
    "beta2 = 0.999\n",
    "adagrad_eta = 0.1\n",
    "eps = 10**(-8)\n",
    "T = 200\n",
    "a=0.1\n",
    "\n",
    "#train the weights\n",
    "ADAM_weights = ADAM(X_train, Y_train, W, T, a, beta1, beta2, eps)\n",
    "YOGI_weights = YOGI(X_train, Y_train, W, T, a, beta1, beta2, eps)\n",
    "AdaGrad_weights = AdaGrad(X_train, Y_train, W, T, adagrad_eta, eps)\n",
    "print(\"Ran ADAM and YOGI And AdaGrad\")\n",
    "ADAM_loss = []\n",
    "YOGI_loss = []\n",
    "AdaGrad_loss = []\n",
    "\n",
    "for i in range(T):\n",
    "    ADAM_loss.append(f(X_train, Y_train, ADAM_weights[i]))\n",
    "    YOGI_loss.append(f(X_train, Y_train, YOGI_weights[i]))\n",
    "    AdaGrad_loss.append(f(X_train, Y_train, AdaGrad_weights[i]))"
   ]
  },
  {
   "cell_type": "code",
   "execution_count": 4,
   "metadata": {
    "collapsed": true
   },
   "outputs": [],
   "source": []
  },
  {
   "cell_type": "code",
   "execution_count": 8,
   "metadata": {},
   "outputs": [
    {
     "data": {
      "image/png": "[encoded data removed]",
      "text/plain": [
       "<Figure size 432x288 with 1 Axes>"
      ]
     },
     "metadata": {
      "needs_background": "light"
     },
     "output_type": "display_data"
    }
   ],
   "source": [
    "#plot loss functions\n",
    "plt.plot(range(T), ADAM_loss, label=\"ADAM loss\")\n",
    "plt.plot(range(T), YOGI_loss, label=\"YOGI loss\")\n",
    "\n",
    "plt.legend()\n",
    "#plt.xlim([0, 200])\n",
    "plt.xlabel(\"Iterations\")\n",
    "plt.ylabel(\"Loss Function\")\n",
    "plt.show()\n"
   ]
  },
  {
   "cell_type": "code",
   "execution_count": 9,
   "metadata": {},
   "outputs": [
    {
     "data": {
      "image/png": "[encoded data removed]",
      "text/plain": [
       "<Figure size 432x288 with 1 Axes>"
      ]
     },
     "metadata": {
      "needs_background": "light"
     },
     "output_type": "display_data"
    }
   ],
   "source": [
    "plt.plot(range(T), AdaGrad_loss, label=\"AdaGrad loss\")\n",
    "\n",
    "plt.legend()\n",
    "#plt.xlim([0, 200])\n",
    "plt.xlabel(\"Iterations\")\n",
    "plt.ylabel(\"Loss Function\")\n",
    "plt.show()"
   ]
  },
  {
   "cell_type": "code",
   "execution_count": null,
   "metadata": {
    "collapsed": true
   },
   "outputs": [],
   "source": []
  }
 ],
 "metadata": {
  "kernelspec": {
   "display_name": "Python 3",
   "language": "python",
   "name": "python3"
  },
  "language_info": {
   "codemirror_mode": {
    "name": "ipython",
    "version": 3
   },
   "file_extension": ".py",
   "mimetype": "text/x-python",
   "name": "python",
   "nbconvert_exporter": "python",
   "pygments_lexer": "ipython3",
   "version": "3.8.5"
  }
 },
 "nbformat": 4,
 "nbformat_minor": 2
}
